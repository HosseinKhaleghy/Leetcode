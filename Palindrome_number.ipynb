class Solution:
    def isPalindrome(self, x):
        if len(str(x))%2 ==0:
            addition =1
        else:
            addition =0
        if str(x)[0:len(str(x))//2] == str(x)[len(str(x)):len(str(x))//2-addition:-1]:
            return True
        else:
            return False 
        