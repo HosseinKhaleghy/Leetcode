{
 "cells": [
  {
   "cell_type": "markdown",
   "id": "dba2fdf5",
   "metadata": {},
   "source": [
    "# Two Sum problem"
   ]
  },
  {
   "cell_type": "code",
   "execution_count": 7,
   "id": "6393d63e",
   "metadata": {},
   "outputs": [],
   "source": [
    "\n",
    "\n",
    "class Solution:\n",
    "    def twoSum(self, nums, target):   #Iterating over the list\n",
    "        for starting_index in range(len(nums)):             #Iterating over the list\n",
    "            for second_index in range(len(nums)-1,starting_index,-1):\n",
    "                if nums[starting_index] + nums[second_index] == target:\n",
    "\n",
    "                    return starting_index , second_index"
   ]
  }
 ],
 "metadata": {
  "kernelspec": {
   "display_name": "Python 3 (ipykernel)",
   "language": "python",
   "name": "python3"
  },
  "language_info": {
   "codemirror_mode": {
    "name": "ipython",
    "version": 3
   },
   "file_extension": ".py",
   "mimetype": "text/x-python",
   "name": "python",
   "nbconvert_exporter": "python",
   "pygments_lexer": "ipython3",
   "version": "3.9.13"
  }
 },
 "nbformat": 4,
 "nbformat_minor": 5
}
